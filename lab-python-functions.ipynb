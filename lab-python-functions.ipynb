{
 "cells": [
  {
   "cell_type": "markdown",
   "id": "25d7736c-ba17-4aff-b6bb-66eba20fbf4e",
   "metadata": {},
   "source": [
    "# Lab | Functions"
   ]
  },
  {
   "cell_type": "markdown",
   "id": "0c581062-8967-4d93-b06e-62833222f930",
   "metadata": {
    "tags": []
   },
   "source": [
    "## Exercise: Managing Customer Orders with Functions\n",
    "\n",
    "In the previous exercise, you improved the code for managing customer orders by using loops and flow control. Now, let's take it a step further and refactor the code by introducing functions.\n",
    "\n",
    "Follow the steps below to complete the exercise:\n",
    "\n",
    "1. Define a function named `initialize_inventory` that takes `products` as a parameter. Inside the function, implement the code for initializing the inventory dictionary using a loop and user input.\n",
    "\n",
    "2. Define a function named `get_customer_orders` that takes no parameters. Inside the function, implement the code for prompting the user to enter the product names using a loop. The function should return the `customer_orders` set.\n",
    "\n",
    "3. Define a function named `update_inventory` that takes `customer_orders` and `inventory` as parameters. Inside the function, implement the code for updating the inventory dictionary based on the customer orders.\n",
    "\n",
    "4. Define a function named `calculate_order_statistics` that takes `customer_orders` and `products` as parameters. Inside the function, implement the code for calculating the order statistics (total products ordered, and percentage of unique products ordered). The function should return these values.\n",
    "\n",
    "5. Define a function named `print_order_statistics` that takes `order_statistics` as a parameter. Inside the function, implement the code for printing the order statistics.\n",
    "\n",
    "6. Define a function named `print_updated_inventory` that takes `inventory` as a parameter. Inside the function, implement the code for printing the updated inventory.\n",
    "\n",
    "7. Call the functions in the appropriate sequence to execute the program and manage customer orders.\n",
    "\n",
    "Hints for functions:\n",
    "\n",
    "- Consider the input parameters required for each function and their return values.\n",
    "- Utilize function parameters and return values to transfer data between functions.\n",
    "- Test your functions individually to ensure they work correctly.\n",
    "\n",
    "\n"
   ]
  },
  {
   "cell_type": "code",
   "execution_count": 4,
   "id": "f1e935bb",
   "metadata": {},
   "outputs": [],
   "source": [
    "def initialize_inventory(products):\n",
    "    products = [\"t-shirt\", \"mug\", \"hat\", \"book\", \"keychain\"]\n",
    "    inventory = {}\n",
    "\n",
    "    for product in products:\n",
    "        quantity = int(input(f\"Please enter the quantity of the {product} available\"))\n",
    "        inventory[product]= quantity #dict_name[key] = value"
   ]
  },
  {
   "cell_type": "code",
   "execution_count": null,
   "id": "9913a5cc",
   "metadata": {},
   "outputs": [],
   "source": [
    "customer_orders = set()\n",
    "def get_customer_orders():\n",
    "    another_order = \"YES\" #set a true value for while loop, so it automatically ends when this is false  \n",
    "    while another_order == \"YES\":\n",
    "        order_items = input(\"Please enter the name of the product you want to order: \")\n",
    "        customer_orders.add(order_items) #here the product ordered is added to the set\n",
    "        another_order = input(\"Do you want to order another product? Please type 'YES' or 'NO': \")"
   ]
  },
  {
   "cell_type": "code",
   "execution_count": null,
   "id": "0f049094",
   "metadata": {},
   "outputs": [],
   "source": [
    "def update_inventory(customer_orders, inventory):\n",
    "    for product, quantity in inventory.items(): #remember to use the key,value format when updating a dictionary!!!\n",
    "        if product in customer_orders:\n",
    "            inventory[product] = quantity -1 #dict_name[key] = value - 1"
   ]
  },
  {
   "cell_type": "code",
   "execution_count": null,
   "id": "acc30174",
   "metadata": {},
   "outputs": [],
   "source": [
    "def calculate_order_statistics(customer_orders, products):\n",
    "    return customer_orders\n",
    "    available_products = products.count()\n",
    "    products_ordered = len(customer_orders)\n",
    "    percentage_of_unique_products_ordered = available_products / products_ordered"
   ]
  },
  {
   "cell_type": "code",
   "execution_count": null,
   "id": "1b301175",
   "metadata": {},
   "outputs": [],
   "source": [
    "def print_order_statistics(order_statistics):\n",
    "    print (order_statistics)"
   ]
  },
  {
   "cell_type": "code",
   "execution_count": 17,
   "id": "c105bcf8",
   "metadata": {},
   "outputs": [],
   "source": [
    "def print_updated_inventory(inventory):\n",
    "    print (inventory)"
   ]
  }
 ],
 "metadata": {
  "kernelspec": {
   "display_name": "base",
   "language": "python",
   "name": "python3"
  },
  "language_info": {
   "codemirror_mode": {
    "name": "ipython",
    "version": 3
   },
   "file_extension": ".py",
   "mimetype": "text/x-python",
   "name": "python",
   "nbconvert_exporter": "python",
   "pygments_lexer": "ipython3",
   "version": "3.13.5"
  }
 },
 "nbformat": 4,
 "nbformat_minor": 5
}
